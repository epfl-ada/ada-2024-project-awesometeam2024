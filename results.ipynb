{
 "cells": [
  {
   "cell_type": "markdown",
   "metadata": {},
   "source": [
    "# Applied Data Analysis: CMU Movie Summary Corpus"
   ]
  },
  {
   "cell_type": "markdown",
   "metadata": {},
   "source": [
    "## Abstract"
   ]
  },
  {
   "cell_type": "markdown",
   "metadata": {},
   "source": [
    "## Research questions\n",
    "\n",
    "We can investigate whether factors like movie genre, runtime, release date, or language influence box office revenue. \n",
    "\n",
    "**Basics questions**\n",
    "- Do action films generate more revenue than dramas? \n",
    "- Does a film’s runtime have an impact on its financial performance? \n",
    "- Does movies released in the summer or during holiday seasons perform better than those released at other times of the year. \n",
    "\n",
    "**Correlation questions**\n",
    "- Is there a correlation between certain genres and higher revenue? \n",
    "- What are the most common predictors of a film’s financial success? \n",
    "\n",
    "**Output model** \\\n",
    "By using machine learning models like linear regression, we can create a predictive model for box office success based on historical data. \n",
    "- Can we predict a new film’s box office revenue based on its genre, language, runtime, and cast? \n",
    "\n",
    "\n",
    "Comparing the actual and predicted box office results, it could provide insight into the key factors that influence financial success in the film industry"
   ]
  },
  {
   "cell_type": "markdown",
   "metadata": {},
   "source": [
    "## Dataset Details\n",
    "This dataset contains metadata and plot summaries for over 42,000 movies. The dataset is a rich resource for exploring relationships between movies, characters, and plot content.\n",
    "\n",
    "- **Name**: CMU Movie Summary Corpus\n",
    "- **Source**: [CMU Movie Summary Corpus Dataset](https://www.cs.cmu.edu/~ark/personas/)\n",
    "- **Size**: 46 MB (compressed)\n",
    "- **Typology**: Text + Graphs + Numerical Data\n",
    "- **Tags**: Movies, Characters, Plot Summaries, Metadata\n",
    "\n",
    "The dataset contains:\n",
    "- **Movie Metadata**: Information about the movies such as titles, genres, release dates.\n",
    "- **Character Metadata**: Details about the characters in each movie.\n",
    "- **Plot Summaries**: Textual summaries of movie plots extracted from Wikipedia.\n",
    "\n",
    "You can read more about the dataset in the paper: [Bamman et al., 2013](http://www.cs.cmu.edu/~dbamman/pubs/pdf/bamman+oconnor+smith.acl13.pdf)."
   ]
  },
  {
   "cell_type": "markdown",
   "metadata": {},
   "source": []
  }
 ],
 "metadata": {
  "kernelspec": {
   "display_name": "ada",
   "language": "python",
   "name": "python3"
  },
  "language_info": {
   "codemirror_mode": {
    "name": "ipython",
    "version": 3
   },
   "file_extension": ".py",
   "mimetype": "text/x-python",
   "name": "python",
   "nbconvert_exporter": "python",
   "pygments_lexer": "ipython3",
   "version": "3.11.9"
  }
 },
 "nbformat": 4,
 "nbformat_minor": 2
}
